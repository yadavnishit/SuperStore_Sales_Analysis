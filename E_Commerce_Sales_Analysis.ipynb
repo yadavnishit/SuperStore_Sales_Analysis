{
 "cells": [
  {
   "cell_type": "code",
   "execution_count": 2,
   "id": "9e85cbd9-d183-4864-b1e7-1d3e9bff102c",
   "metadata": {},
   "outputs": [],
   "source": [
    "import pandas as pd\n",
    "import numpy as np\n",
    "import seaborn as sns\n",
    "import matplotlib.pyplot as plt"
   ]
  },
  {
   "cell_type": "code",
   "execution_count": 3,
   "id": "c400b479-7ff3-4b20-9201-4f470b9ba268",
   "metadata": {},
   "outputs": [
    {
     "name": "stdout",
     "output_type": "stream",
     "text": [
      "Requirement already satisfied: openpyxl in c:\\users\\ideapad\\appdata\\local\\packages\\pythonsoftwarefoundation.python.3.10_qbz5n2kfra8p0\\localcache\\local-packages\\python310\\site-packages (3.1.5)\n",
      "Requirement already satisfied: et-xmlfile in c:\\users\\ideapad\\appdata\\local\\packages\\pythonsoftwarefoundation.python.3.10_qbz5n2kfra8p0\\localcache\\local-packages\\python310\\site-packages (from openpyxl) (2.0.0)\n",
      "Note: you may need to restart the kernel to use updated packages.\n"
     ]
    }
   ],
   "source": [
    "pip install openpyxl"
   ]
  },
  {
   "cell_type": "code",
   "execution_count": 4,
   "id": "f93e4319-c895-462a-8be0-1d990ceea701",
   "metadata": {},
   "outputs": [],
   "source": [
    "data = pd.read_excel(\"SuperStore.xlsx\")"
   ]
  },
  {
   "cell_type": "code",
   "execution_count": 5,
   "id": "6cda01fc-44fc-4e5a-a389-2f6cd7ae43ed",
   "metadata": {},
   "outputs": [
    {
     "data": {
      "text/html": [
       "<div>\n",
       "<style scoped>\n",
       "    .dataframe tbody tr th:only-of-type {\n",
       "        vertical-align: middle;\n",
       "    }\n",
       "\n",
       "    .dataframe tbody tr th {\n",
       "        vertical-align: top;\n",
       "    }\n",
       "\n",
       "    .dataframe thead th {\n",
       "        text-align: right;\n",
       "    }\n",
       "</style>\n",
       "<table border=\"1\" class=\"dataframe\">\n",
       "  <thead>\n",
       "    <tr style=\"text-align: right;\">\n",
       "      <th></th>\n",
       "      <th>Row ID</th>\n",
       "      <th>Order Priority</th>\n",
       "      <th>Discount</th>\n",
       "      <th>Unit Price</th>\n",
       "      <th>Shipping Cost</th>\n",
       "      <th>Customer ID</th>\n",
       "      <th>Customer Name</th>\n",
       "      <th>Ship Mode</th>\n",
       "      <th>Customer Segment</th>\n",
       "      <th>Product Category</th>\n",
       "      <th>...</th>\n",
       "      <th>Region</th>\n",
       "      <th>State or Province</th>\n",
       "      <th>City</th>\n",
       "      <th>Postal Code</th>\n",
       "      <th>Order Date</th>\n",
       "      <th>Ship Date</th>\n",
       "      <th>Profit</th>\n",
       "      <th>Quantity ordered new</th>\n",
       "      <th>Sales</th>\n",
       "      <th>Order ID</th>\n",
       "    </tr>\n",
       "  </thead>\n",
       "  <tbody>\n",
       "    <tr>\n",
       "      <th>0</th>\n",
       "      <td>18606</td>\n",
       "      <td>Not Specified</td>\n",
       "      <td>0.01</td>\n",
       "      <td>2.88</td>\n",
       "      <td>0.50</td>\n",
       "      <td>2</td>\n",
       "      <td>Janice Fletcher</td>\n",
       "      <td>Regular Air</td>\n",
       "      <td>Corporate</td>\n",
       "      <td>Office Supplies</td>\n",
       "      <td>...</td>\n",
       "      <td>Central</td>\n",
       "      <td>Illinois</td>\n",
       "      <td>Addison</td>\n",
       "      <td>60101</td>\n",
       "      <td>2012-05-28</td>\n",
       "      <td>2012-05-30</td>\n",
       "      <td>1.320000</td>\n",
       "      <td>2</td>\n",
       "      <td>5.90</td>\n",
       "      <td>88525</td>\n",
       "    </tr>\n",
       "    <tr>\n",
       "      <th>1</th>\n",
       "      <td>20847</td>\n",
       "      <td>High</td>\n",
       "      <td>0.01</td>\n",
       "      <td>2.84</td>\n",
       "      <td>0.93</td>\n",
       "      <td>3</td>\n",
       "      <td>Bonnie Potter</td>\n",
       "      <td>Express Air</td>\n",
       "      <td>Corporate</td>\n",
       "      <td>Office Supplies</td>\n",
       "      <td>...</td>\n",
       "      <td>West</td>\n",
       "      <td>Washington</td>\n",
       "      <td>Anacortes</td>\n",
       "      <td>98221</td>\n",
       "      <td>2010-07-07</td>\n",
       "      <td>2010-07-08</td>\n",
       "      <td>4.560000</td>\n",
       "      <td>4</td>\n",
       "      <td>13.01</td>\n",
       "      <td>88522</td>\n",
       "    </tr>\n",
       "    <tr>\n",
       "      <th>2</th>\n",
       "      <td>23086</td>\n",
       "      <td>Not Specified</td>\n",
       "      <td>0.03</td>\n",
       "      <td>6.68</td>\n",
       "      <td>6.15</td>\n",
       "      <td>3</td>\n",
       "      <td>Bonnie Potter</td>\n",
       "      <td>Express Air</td>\n",
       "      <td>Corporate</td>\n",
       "      <td>Office Supplies</td>\n",
       "      <td>...</td>\n",
       "      <td>West</td>\n",
       "      <td>Washington</td>\n",
       "      <td>Anacortes</td>\n",
       "      <td>98221</td>\n",
       "      <td>2011-07-27</td>\n",
       "      <td>2011-07-28</td>\n",
       "      <td>-47.640000</td>\n",
       "      <td>7</td>\n",
       "      <td>49.92</td>\n",
       "      <td>88523</td>\n",
       "    </tr>\n",
       "    <tr>\n",
       "      <th>3</th>\n",
       "      <td>23087</td>\n",
       "      <td>Not Specified</td>\n",
       "      <td>0.01</td>\n",
       "      <td>5.68</td>\n",
       "      <td>3.60</td>\n",
       "      <td>3</td>\n",
       "      <td>Bonnie Potter</td>\n",
       "      <td>Regular Air</td>\n",
       "      <td>Corporate</td>\n",
       "      <td>Office Supplies</td>\n",
       "      <td>...</td>\n",
       "      <td>West</td>\n",
       "      <td>Washington</td>\n",
       "      <td>Anacortes</td>\n",
       "      <td>98221</td>\n",
       "      <td>2011-07-27</td>\n",
       "      <td>2011-07-28</td>\n",
       "      <td>-30.510000</td>\n",
       "      <td>7</td>\n",
       "      <td>41.64</td>\n",
       "      <td>88523</td>\n",
       "    </tr>\n",
       "    <tr>\n",
       "      <th>4</th>\n",
       "      <td>23088</td>\n",
       "      <td>Not Specified</td>\n",
       "      <td>0.00</td>\n",
       "      <td>205.99</td>\n",
       "      <td>2.50</td>\n",
       "      <td>3</td>\n",
       "      <td>Bonnie Potter</td>\n",
       "      <td>Express Air</td>\n",
       "      <td>Corporate</td>\n",
       "      <td>Technology</td>\n",
       "      <td>...</td>\n",
       "      <td>West</td>\n",
       "      <td>Washington</td>\n",
       "      <td>Anacortes</td>\n",
       "      <td>98221</td>\n",
       "      <td>2011-07-27</td>\n",
       "      <td>2011-07-27</td>\n",
       "      <td>998.202300</td>\n",
       "      <td>8</td>\n",
       "      <td>1446.67</td>\n",
       "      <td>88523</td>\n",
       "    </tr>\n",
       "    <tr>\n",
       "      <th>...</th>\n",
       "      <td>...</td>\n",
       "      <td>...</td>\n",
       "      <td>...</td>\n",
       "      <td>...</td>\n",
       "      <td>...</td>\n",
       "      <td>...</td>\n",
       "      <td>...</td>\n",
       "      <td>...</td>\n",
       "      <td>...</td>\n",
       "      <td>...</td>\n",
       "      <td>...</td>\n",
       "      <td>...</td>\n",
       "      <td>...</td>\n",
       "      <td>...</td>\n",
       "      <td>...</td>\n",
       "      <td>...</td>\n",
       "      <td>...</td>\n",
       "      <td>...</td>\n",
       "      <td>...</td>\n",
       "      <td>...</td>\n",
       "      <td>...</td>\n",
       "    </tr>\n",
       "    <tr>\n",
       "      <th>9421</th>\n",
       "      <td>20275</td>\n",
       "      <td>Critical</td>\n",
       "      <td>0.06</td>\n",
       "      <td>35.89</td>\n",
       "      <td>14.72</td>\n",
       "      <td>3402</td>\n",
       "      <td>Frederick Cole</td>\n",
       "      <td>Regular Air</td>\n",
       "      <td>Consumer</td>\n",
       "      <td>Office Supplies</td>\n",
       "      <td>...</td>\n",
       "      <td>East</td>\n",
       "      <td>West Virginia</td>\n",
       "      <td>Charleston</td>\n",
       "      <td>25314</td>\n",
       "      <td>2013-05-14</td>\n",
       "      <td>2013-05-15</td>\n",
       "      <td>137.860000</td>\n",
       "      <td>13</td>\n",
       "      <td>447.87</td>\n",
       "      <td>87532</td>\n",
       "    </tr>\n",
       "    <tr>\n",
       "      <th>9422</th>\n",
       "      <td>20276</td>\n",
       "      <td>Critical</td>\n",
       "      <td>0.00</td>\n",
       "      <td>3.34</td>\n",
       "      <td>7.49</td>\n",
       "      <td>3402</td>\n",
       "      <td>Frederick Cole</td>\n",
       "      <td>Regular Air</td>\n",
       "      <td>Consumer</td>\n",
       "      <td>Office Supplies</td>\n",
       "      <td>...</td>\n",
       "      <td>East</td>\n",
       "      <td>West Virginia</td>\n",
       "      <td>Charleston</td>\n",
       "      <td>25314</td>\n",
       "      <td>2013-05-14</td>\n",
       "      <td>2013-05-14</td>\n",
       "      <td>-39.070000</td>\n",
       "      <td>3</td>\n",
       "      <td>13.23</td>\n",
       "      <td>87532</td>\n",
       "    </tr>\n",
       "    <tr>\n",
       "      <th>9423</th>\n",
       "      <td>24491</td>\n",
       "      <td>Not Specified</td>\n",
       "      <td>0.08</td>\n",
       "      <td>550.98</td>\n",
       "      <td>45.70</td>\n",
       "      <td>3402</td>\n",
       "      <td>Frederick Cole</td>\n",
       "      <td>Delivery Truck</td>\n",
       "      <td>Consumer</td>\n",
       "      <td>Furniture</td>\n",
       "      <td>...</td>\n",
       "      <td>East</td>\n",
       "      <td>West Virginia</td>\n",
       "      <td>Charleston</td>\n",
       "      <td>25314</td>\n",
       "      <td>2013-09-12</td>\n",
       "      <td>2013-09-14</td>\n",
       "      <td>-1225.029097</td>\n",
       "      <td>4</td>\n",
       "      <td>2215.93</td>\n",
       "      <td>87533</td>\n",
       "    </tr>\n",
       "    <tr>\n",
       "      <th>9424</th>\n",
       "      <td>25914</td>\n",
       "      <td>High</td>\n",
       "      <td>0.10</td>\n",
       "      <td>105.98</td>\n",
       "      <td>13.99</td>\n",
       "      <td>3403</td>\n",
       "      <td>Tammy Buckley</td>\n",
       "      <td>Express Air</td>\n",
       "      <td>Consumer</td>\n",
       "      <td>Furniture</td>\n",
       "      <td>...</td>\n",
       "      <td>West</td>\n",
       "      <td>Wyoming</td>\n",
       "      <td>Cheyenne</td>\n",
       "      <td>82001</td>\n",
       "      <td>2010-02-08</td>\n",
       "      <td>2010-02-11</td>\n",
       "      <td>349.485000</td>\n",
       "      <td>5</td>\n",
       "      <td>506.50</td>\n",
       "      <td>87530</td>\n",
       "    </tr>\n",
       "    <tr>\n",
       "      <th>9425</th>\n",
       "      <td>24492</td>\n",
       "      <td>Not Specified</td>\n",
       "      <td>0.09</td>\n",
       "      <td>7.78</td>\n",
       "      <td>2.50</td>\n",
       "      <td>3403</td>\n",
       "      <td>Tammy Buckley</td>\n",
       "      <td>Express Air</td>\n",
       "      <td>Consumer</td>\n",
       "      <td>Office Supplies</td>\n",
       "      <td>...</td>\n",
       "      <td>West</td>\n",
       "      <td>Wyoming</td>\n",
       "      <td>Cheyenne</td>\n",
       "      <td>82001</td>\n",
       "      <td>2013-09-12</td>\n",
       "      <td>2013-09-14</td>\n",
       "      <td>78.062400</td>\n",
       "      <td>23</td>\n",
       "      <td>172.48</td>\n",
       "      <td>87533</td>\n",
       "    </tr>\n",
       "  </tbody>\n",
       "</table>\n",
       "<p>9426 rows × 24 columns</p>\n",
       "</div>"
      ],
      "text/plain": [
       "      Row ID Order Priority  Discount  Unit Price  Shipping Cost  Customer ID  \\\n",
       "0      18606  Not Specified      0.01        2.88           0.50            2   \n",
       "1      20847           High      0.01        2.84           0.93            3   \n",
       "2      23086  Not Specified      0.03        6.68           6.15            3   \n",
       "3      23087  Not Specified      0.01        5.68           3.60            3   \n",
       "4      23088  Not Specified      0.00      205.99           2.50            3   \n",
       "...      ...            ...       ...         ...            ...          ...   \n",
       "9421   20275       Critical      0.06       35.89          14.72         3402   \n",
       "9422   20276       Critical      0.00        3.34           7.49         3402   \n",
       "9423   24491  Not Specified      0.08      550.98          45.70         3402   \n",
       "9424   25914           High      0.10      105.98          13.99         3403   \n",
       "9425   24492  Not Specified      0.09        7.78           2.50         3403   \n",
       "\n",
       "        Customer Name       Ship Mode Customer Segment Product Category  ...  \\\n",
       "0     Janice Fletcher     Regular Air        Corporate  Office Supplies  ...   \n",
       "1       Bonnie Potter     Express Air        Corporate  Office Supplies  ...   \n",
       "2       Bonnie Potter     Express Air        Corporate  Office Supplies  ...   \n",
       "3       Bonnie Potter     Regular Air        Corporate  Office Supplies  ...   \n",
       "4       Bonnie Potter     Express Air        Corporate       Technology  ...   \n",
       "...               ...             ...              ...              ...  ...   \n",
       "9421   Frederick Cole     Regular Air         Consumer  Office Supplies  ...   \n",
       "9422   Frederick Cole     Regular Air         Consumer  Office Supplies  ...   \n",
       "9423   Frederick Cole  Delivery Truck         Consumer        Furniture  ...   \n",
       "9424    Tammy Buckley     Express Air         Consumer        Furniture  ...   \n",
       "9425    Tammy Buckley     Express Air         Consumer  Office Supplies  ...   \n",
       "\n",
       "       Region State or Province        City  Postal Code Order Date  \\\n",
       "0     Central          Illinois     Addison        60101 2012-05-28   \n",
       "1        West        Washington   Anacortes        98221 2010-07-07   \n",
       "2        West        Washington   Anacortes        98221 2011-07-27   \n",
       "3        West        Washington   Anacortes        98221 2011-07-27   \n",
       "4        West        Washington   Anacortes        98221 2011-07-27   \n",
       "...       ...               ...         ...          ...        ...   \n",
       "9421     East     West Virginia  Charleston        25314 2013-05-14   \n",
       "9422     East     West Virginia  Charleston        25314 2013-05-14   \n",
       "9423     East     West Virginia  Charleston        25314 2013-09-12   \n",
       "9424     West           Wyoming    Cheyenne        82001 2010-02-08   \n",
       "9425     West           Wyoming    Cheyenne        82001 2013-09-12   \n",
       "\n",
       "      Ship Date       Profit  Quantity ordered new    Sales Order ID  \n",
       "0    2012-05-30     1.320000                     2     5.90    88525  \n",
       "1    2010-07-08     4.560000                     4    13.01    88522  \n",
       "2    2011-07-28   -47.640000                     7    49.92    88523  \n",
       "3    2011-07-28   -30.510000                     7    41.64    88523  \n",
       "4    2011-07-27   998.202300                     8  1446.67    88523  \n",
       "...         ...          ...                   ...      ...      ...  \n",
       "9421 2013-05-15   137.860000                    13   447.87    87532  \n",
       "9422 2013-05-14   -39.070000                     3    13.23    87532  \n",
       "9423 2013-09-14 -1225.029097                     4  2215.93    87533  \n",
       "9424 2010-02-11   349.485000                     5   506.50    87530  \n",
       "9425 2013-09-14    78.062400                    23   172.48    87533  \n",
       "\n",
       "[9426 rows x 24 columns]"
      ]
     },
     "execution_count": 5,
     "metadata": {},
     "output_type": "execute_result"
    }
   ],
   "source": [
    "data"
   ]
  },
  {
   "cell_type": "code",
   "execution_count": 6,
   "id": "780db34e-562e-4516-a696-ece961e98274",
   "metadata": {},
   "outputs": [
    {
     "data": {
      "text/html": [
       "<div>\n",
       "<style scoped>\n",
       "    .dataframe tbody tr th:only-of-type {\n",
       "        vertical-align: middle;\n",
       "    }\n",
       "\n",
       "    .dataframe tbody tr th {\n",
       "        vertical-align: top;\n",
       "    }\n",
       "\n",
       "    .dataframe thead th {\n",
       "        text-align: right;\n",
       "    }\n",
       "</style>\n",
       "<table border=\"1\" class=\"dataframe\">\n",
       "  <thead>\n",
       "    <tr style=\"text-align: right;\">\n",
       "      <th></th>\n",
       "      <th>Row ID</th>\n",
       "      <th>Order Priority</th>\n",
       "      <th>Discount</th>\n",
       "      <th>Unit Price</th>\n",
       "      <th>Shipping Cost</th>\n",
       "      <th>Customer ID</th>\n",
       "      <th>Customer Name</th>\n",
       "      <th>Ship Mode</th>\n",
       "      <th>Customer Segment</th>\n",
       "      <th>Product Category</th>\n",
       "      <th>...</th>\n",
       "      <th>Region</th>\n",
       "      <th>State or Province</th>\n",
       "      <th>City</th>\n",
       "      <th>Postal Code</th>\n",
       "      <th>Order Date</th>\n",
       "      <th>Ship Date</th>\n",
       "      <th>Profit</th>\n",
       "      <th>Quantity ordered new</th>\n",
       "      <th>Sales</th>\n",
       "      <th>Order ID</th>\n",
       "    </tr>\n",
       "  </thead>\n",
       "  <tbody>\n",
       "    <tr>\n",
       "      <th>0</th>\n",
       "      <td>18606</td>\n",
       "      <td>Not Specified</td>\n",
       "      <td>0.01</td>\n",
       "      <td>2.88</td>\n",
       "      <td>0.50</td>\n",
       "      <td>2</td>\n",
       "      <td>Janice Fletcher</td>\n",
       "      <td>Regular Air</td>\n",
       "      <td>Corporate</td>\n",
       "      <td>Office Supplies</td>\n",
       "      <td>...</td>\n",
       "      <td>Central</td>\n",
       "      <td>Illinois</td>\n",
       "      <td>Addison</td>\n",
       "      <td>60101</td>\n",
       "      <td>2012-05-28</td>\n",
       "      <td>2012-05-30</td>\n",
       "      <td>1.3200</td>\n",
       "      <td>2</td>\n",
       "      <td>5.90</td>\n",
       "      <td>88525</td>\n",
       "    </tr>\n",
       "    <tr>\n",
       "      <th>1</th>\n",
       "      <td>20847</td>\n",
       "      <td>High</td>\n",
       "      <td>0.01</td>\n",
       "      <td>2.84</td>\n",
       "      <td>0.93</td>\n",
       "      <td>3</td>\n",
       "      <td>Bonnie Potter</td>\n",
       "      <td>Express Air</td>\n",
       "      <td>Corporate</td>\n",
       "      <td>Office Supplies</td>\n",
       "      <td>...</td>\n",
       "      <td>West</td>\n",
       "      <td>Washington</td>\n",
       "      <td>Anacortes</td>\n",
       "      <td>98221</td>\n",
       "      <td>2010-07-07</td>\n",
       "      <td>2010-07-08</td>\n",
       "      <td>4.5600</td>\n",
       "      <td>4</td>\n",
       "      <td>13.01</td>\n",
       "      <td>88522</td>\n",
       "    </tr>\n",
       "    <tr>\n",
       "      <th>2</th>\n",
       "      <td>23086</td>\n",
       "      <td>Not Specified</td>\n",
       "      <td>0.03</td>\n",
       "      <td>6.68</td>\n",
       "      <td>6.15</td>\n",
       "      <td>3</td>\n",
       "      <td>Bonnie Potter</td>\n",
       "      <td>Express Air</td>\n",
       "      <td>Corporate</td>\n",
       "      <td>Office Supplies</td>\n",
       "      <td>...</td>\n",
       "      <td>West</td>\n",
       "      <td>Washington</td>\n",
       "      <td>Anacortes</td>\n",
       "      <td>98221</td>\n",
       "      <td>2011-07-27</td>\n",
       "      <td>2011-07-28</td>\n",
       "      <td>-47.6400</td>\n",
       "      <td>7</td>\n",
       "      <td>49.92</td>\n",
       "      <td>88523</td>\n",
       "    </tr>\n",
       "    <tr>\n",
       "      <th>3</th>\n",
       "      <td>23087</td>\n",
       "      <td>Not Specified</td>\n",
       "      <td>0.01</td>\n",
       "      <td>5.68</td>\n",
       "      <td>3.60</td>\n",
       "      <td>3</td>\n",
       "      <td>Bonnie Potter</td>\n",
       "      <td>Regular Air</td>\n",
       "      <td>Corporate</td>\n",
       "      <td>Office Supplies</td>\n",
       "      <td>...</td>\n",
       "      <td>West</td>\n",
       "      <td>Washington</td>\n",
       "      <td>Anacortes</td>\n",
       "      <td>98221</td>\n",
       "      <td>2011-07-27</td>\n",
       "      <td>2011-07-28</td>\n",
       "      <td>-30.5100</td>\n",
       "      <td>7</td>\n",
       "      <td>41.64</td>\n",
       "      <td>88523</td>\n",
       "    </tr>\n",
       "    <tr>\n",
       "      <th>4</th>\n",
       "      <td>23088</td>\n",
       "      <td>Not Specified</td>\n",
       "      <td>0.00</td>\n",
       "      <td>205.99</td>\n",
       "      <td>2.50</td>\n",
       "      <td>3</td>\n",
       "      <td>Bonnie Potter</td>\n",
       "      <td>Express Air</td>\n",
       "      <td>Corporate</td>\n",
       "      <td>Technology</td>\n",
       "      <td>...</td>\n",
       "      <td>West</td>\n",
       "      <td>Washington</td>\n",
       "      <td>Anacortes</td>\n",
       "      <td>98221</td>\n",
       "      <td>2011-07-27</td>\n",
       "      <td>2011-07-27</td>\n",
       "      <td>998.2023</td>\n",
       "      <td>8</td>\n",
       "      <td>1446.67</td>\n",
       "      <td>88523</td>\n",
       "    </tr>\n",
       "  </tbody>\n",
       "</table>\n",
       "<p>5 rows × 24 columns</p>\n",
       "</div>"
      ],
      "text/plain": [
       "   Row ID Order Priority  Discount  Unit Price  Shipping Cost  Customer ID  \\\n",
       "0   18606  Not Specified      0.01        2.88           0.50            2   \n",
       "1   20847           High      0.01        2.84           0.93            3   \n",
       "2   23086  Not Specified      0.03        6.68           6.15            3   \n",
       "3   23087  Not Specified      0.01        5.68           3.60            3   \n",
       "4   23088  Not Specified      0.00      205.99           2.50            3   \n",
       "\n",
       "     Customer Name    Ship Mode Customer Segment Product Category  ...  \\\n",
       "0  Janice Fletcher  Regular Air        Corporate  Office Supplies  ...   \n",
       "1    Bonnie Potter  Express Air        Corporate  Office Supplies  ...   \n",
       "2    Bonnie Potter  Express Air        Corporate  Office Supplies  ...   \n",
       "3    Bonnie Potter  Regular Air        Corporate  Office Supplies  ...   \n",
       "4    Bonnie Potter  Express Air        Corporate       Technology  ...   \n",
       "\n",
       "    Region State or Province       City  Postal Code Order Date  Ship Date  \\\n",
       "0  Central          Illinois    Addison        60101 2012-05-28 2012-05-30   \n",
       "1     West        Washington  Anacortes        98221 2010-07-07 2010-07-08   \n",
       "2     West        Washington  Anacortes        98221 2011-07-27 2011-07-28   \n",
       "3     West        Washington  Anacortes        98221 2011-07-27 2011-07-28   \n",
       "4     West        Washington  Anacortes        98221 2011-07-27 2011-07-27   \n",
       "\n",
       "     Profit  Quantity ordered new    Sales Order ID  \n",
       "0    1.3200                     2     5.90    88525  \n",
       "1    4.5600                     4    13.01    88522  \n",
       "2  -47.6400                     7    49.92    88523  \n",
       "3  -30.5100                     7    41.64    88523  \n",
       "4  998.2023                     8  1446.67    88523  \n",
       "\n",
       "[5 rows x 24 columns]"
      ]
     },
     "execution_count": 6,
     "metadata": {},
     "output_type": "execute_result"
    }
   ],
   "source": [
    "data.head(5)"
   ]
  },
  {
   "cell_type": "code",
   "execution_count": 7,
   "id": "7058fbd7-abab-45a4-a344-39e0ebc7c0f0",
   "metadata": {},
   "outputs": [
    {
     "data": {
      "text/plain": [
       "(9426, 24)"
      ]
     },
     "execution_count": 7,
     "metadata": {},
     "output_type": "execute_result"
    }
   ],
   "source": [
    "data.shape"
   ]
  },
  {
   "cell_type": "code",
   "execution_count": 8,
   "id": "4d14ef10-33ce-4c2e-a937-e355a16eea04",
   "metadata": {},
   "outputs": [
    {
     "name": "stdout",
     "output_type": "stream",
     "text": [
      "<class 'pandas.core.frame.DataFrame'>\n",
      "RangeIndex: 9426 entries, 0 to 9425\n",
      "Data columns (total 24 columns):\n",
      " #   Column                Non-Null Count  Dtype         \n",
      "---  ------                --------------  -----         \n",
      " 0   Row ID                9426 non-null   int64         \n",
      " 1   Order Priority        9426 non-null   object        \n",
      " 2   Discount              9426 non-null   float64       \n",
      " 3   Unit Price            9426 non-null   float64       \n",
      " 4   Shipping Cost         9426 non-null   float64       \n",
      " 5   Customer ID           9426 non-null   int64         \n",
      " 6   Customer Name         9426 non-null   object        \n",
      " 7   Ship Mode             9426 non-null   object        \n",
      " 8   Customer Segment      9426 non-null   object        \n",
      " 9   Product Category      9426 non-null   object        \n",
      " 10  Product Sub-Category  9426 non-null   object        \n",
      " 11  Product Container     9426 non-null   object        \n",
      " 12  Product Name          9426 non-null   object        \n",
      " 13  Product Base Margin   9354 non-null   float64       \n",
      " 14  Region                9426 non-null   object        \n",
      " 15  State or Province     9426 non-null   object        \n",
      " 16  City                  9426 non-null   object        \n",
      " 17  Postal Code           9426 non-null   int64         \n",
      " 18  Order Date            9426 non-null   datetime64[ns]\n",
      " 19  Ship Date             9426 non-null   datetime64[ns]\n",
      " 20  Profit                9426 non-null   float64       \n",
      " 21  Quantity ordered new  9426 non-null   int64         \n",
      " 22  Sales                 9426 non-null   float64       \n",
      " 23  Order ID              9426 non-null   int64         \n",
      "dtypes: datetime64[ns](2), float64(6), int64(5), object(11)\n",
      "memory usage: 1.7+ MB\n"
     ]
    }
   ],
   "source": [
    "data.info()"
   ]
  },
  {
   "cell_type": "code",
   "execution_count": 9,
   "id": "c63adecc-6277-4e35-a3fe-34d0f5172cbd",
   "metadata": {},
   "outputs": [
    {
     "data": {
      "text/plain": [
       "Index(['Row ID', 'Order Priority', 'Discount', 'Unit Price', 'Shipping Cost',\n",
       "       'Customer ID', 'Customer Name', 'Ship Mode', 'Customer Segment',\n",
       "       'Product Category', 'Product Sub-Category', 'Product Container',\n",
       "       'Product Name', 'Product Base Margin', 'Region', 'State or Province',\n",
       "       'City', 'Postal Code', 'Order Date', 'Ship Date', 'Profit',\n",
       "       'Quantity ordered new', 'Sales', 'Order ID'],\n",
       "      dtype='object')"
      ]
     },
     "execution_count": 9,
     "metadata": {},
     "output_type": "execute_result"
    }
   ],
   "source": [
    "data.columns"
   ]
  },
  {
   "cell_type": "code",
   "execution_count": 10,
   "id": "087d43b7-17c6-4ff0-b3fb-2f8f48a81ddd",
   "metadata": {},
   "outputs": [
    {
     "data": {
      "text/html": [
       "<div>\n",
       "<style scoped>\n",
       "    .dataframe tbody tr th:only-of-type {\n",
       "        vertical-align: middle;\n",
       "    }\n",
       "\n",
       "    .dataframe tbody tr th {\n",
       "        vertical-align: top;\n",
       "    }\n",
       "\n",
       "    .dataframe thead th {\n",
       "        text-align: right;\n",
       "    }\n",
       "</style>\n",
       "<table border=\"1\" class=\"dataframe\">\n",
       "  <thead>\n",
       "    <tr style=\"text-align: right;\">\n",
       "      <th></th>\n",
       "      <th>Row ID</th>\n",
       "      <th>Order Priority</th>\n",
       "      <th>Discount</th>\n",
       "      <th>Unit Price</th>\n",
       "      <th>Shipping Cost</th>\n",
       "      <th>Customer ID</th>\n",
       "      <th>Customer Name</th>\n",
       "      <th>Ship Mode</th>\n",
       "      <th>Customer Segment</th>\n",
       "      <th>Product Category</th>\n",
       "      <th>...</th>\n",
       "      <th>Region</th>\n",
       "      <th>State or Province</th>\n",
       "      <th>City</th>\n",
       "      <th>Postal Code</th>\n",
       "      <th>Order Date</th>\n",
       "      <th>Ship Date</th>\n",
       "      <th>Profit</th>\n",
       "      <th>Quantity ordered new</th>\n",
       "      <th>Sales</th>\n",
       "      <th>Order ID</th>\n",
       "    </tr>\n",
       "  </thead>\n",
       "  <tbody>\n",
       "    <tr>\n",
       "      <th>0</th>\n",
       "      <td>False</td>\n",
       "      <td>False</td>\n",
       "      <td>False</td>\n",
       "      <td>False</td>\n",
       "      <td>False</td>\n",
       "      <td>False</td>\n",
       "      <td>False</td>\n",
       "      <td>False</td>\n",
       "      <td>False</td>\n",
       "      <td>False</td>\n",
       "      <td>...</td>\n",
       "      <td>False</td>\n",
       "      <td>False</td>\n",
       "      <td>False</td>\n",
       "      <td>False</td>\n",
       "      <td>False</td>\n",
       "      <td>False</td>\n",
       "      <td>False</td>\n",
       "      <td>False</td>\n",
       "      <td>False</td>\n",
       "      <td>False</td>\n",
       "    </tr>\n",
       "    <tr>\n",
       "      <th>1</th>\n",
       "      <td>False</td>\n",
       "      <td>False</td>\n",
       "      <td>False</td>\n",
       "      <td>False</td>\n",
       "      <td>False</td>\n",
       "      <td>False</td>\n",
       "      <td>False</td>\n",
       "      <td>False</td>\n",
       "      <td>False</td>\n",
       "      <td>False</td>\n",
       "      <td>...</td>\n",
       "      <td>False</td>\n",
       "      <td>False</td>\n",
       "      <td>False</td>\n",
       "      <td>False</td>\n",
       "      <td>False</td>\n",
       "      <td>False</td>\n",
       "      <td>False</td>\n",
       "      <td>False</td>\n",
       "      <td>False</td>\n",
       "      <td>False</td>\n",
       "    </tr>\n",
       "    <tr>\n",
       "      <th>2</th>\n",
       "      <td>False</td>\n",
       "      <td>False</td>\n",
       "      <td>False</td>\n",
       "      <td>False</td>\n",
       "      <td>False</td>\n",
       "      <td>False</td>\n",
       "      <td>False</td>\n",
       "      <td>False</td>\n",
       "      <td>False</td>\n",
       "      <td>False</td>\n",
       "      <td>...</td>\n",
       "      <td>False</td>\n",
       "      <td>False</td>\n",
       "      <td>False</td>\n",
       "      <td>False</td>\n",
       "      <td>False</td>\n",
       "      <td>False</td>\n",
       "      <td>False</td>\n",
       "      <td>False</td>\n",
       "      <td>False</td>\n",
       "      <td>False</td>\n",
       "    </tr>\n",
       "    <tr>\n",
       "      <th>3</th>\n",
       "      <td>False</td>\n",
       "      <td>False</td>\n",
       "      <td>False</td>\n",
       "      <td>False</td>\n",
       "      <td>False</td>\n",
       "      <td>False</td>\n",
       "      <td>False</td>\n",
       "      <td>False</td>\n",
       "      <td>False</td>\n",
       "      <td>False</td>\n",
       "      <td>...</td>\n",
       "      <td>False</td>\n",
       "      <td>False</td>\n",
       "      <td>False</td>\n",
       "      <td>False</td>\n",
       "      <td>False</td>\n",
       "      <td>False</td>\n",
       "      <td>False</td>\n",
       "      <td>False</td>\n",
       "      <td>False</td>\n",
       "      <td>False</td>\n",
       "    </tr>\n",
       "    <tr>\n",
       "      <th>4</th>\n",
       "      <td>False</td>\n",
       "      <td>False</td>\n",
       "      <td>False</td>\n",
       "      <td>False</td>\n",
       "      <td>False</td>\n",
       "      <td>False</td>\n",
       "      <td>False</td>\n",
       "      <td>False</td>\n",
       "      <td>False</td>\n",
       "      <td>False</td>\n",
       "      <td>...</td>\n",
       "      <td>False</td>\n",
       "      <td>False</td>\n",
       "      <td>False</td>\n",
       "      <td>False</td>\n",
       "      <td>False</td>\n",
       "      <td>False</td>\n",
       "      <td>False</td>\n",
       "      <td>False</td>\n",
       "      <td>False</td>\n",
       "      <td>False</td>\n",
       "    </tr>\n",
       "    <tr>\n",
       "      <th>...</th>\n",
       "      <td>...</td>\n",
       "      <td>...</td>\n",
       "      <td>...</td>\n",
       "      <td>...</td>\n",
       "      <td>...</td>\n",
       "      <td>...</td>\n",
       "      <td>...</td>\n",
       "      <td>...</td>\n",
       "      <td>...</td>\n",
       "      <td>...</td>\n",
       "      <td>...</td>\n",
       "      <td>...</td>\n",
       "      <td>...</td>\n",
       "      <td>...</td>\n",
       "      <td>...</td>\n",
       "      <td>...</td>\n",
       "      <td>...</td>\n",
       "      <td>...</td>\n",
       "      <td>...</td>\n",
       "      <td>...</td>\n",
       "      <td>...</td>\n",
       "    </tr>\n",
       "    <tr>\n",
       "      <th>9421</th>\n",
       "      <td>False</td>\n",
       "      <td>False</td>\n",
       "      <td>False</td>\n",
       "      <td>False</td>\n",
       "      <td>False</td>\n",
       "      <td>False</td>\n",
       "      <td>False</td>\n",
       "      <td>False</td>\n",
       "      <td>False</td>\n",
       "      <td>False</td>\n",
       "      <td>...</td>\n",
       "      <td>False</td>\n",
       "      <td>False</td>\n",
       "      <td>False</td>\n",
       "      <td>False</td>\n",
       "      <td>False</td>\n",
       "      <td>False</td>\n",
       "      <td>False</td>\n",
       "      <td>False</td>\n",
       "      <td>False</td>\n",
       "      <td>False</td>\n",
       "    </tr>\n",
       "    <tr>\n",
       "      <th>9422</th>\n",
       "      <td>False</td>\n",
       "      <td>False</td>\n",
       "      <td>False</td>\n",
       "      <td>False</td>\n",
       "      <td>False</td>\n",
       "      <td>False</td>\n",
       "      <td>False</td>\n",
       "      <td>False</td>\n",
       "      <td>False</td>\n",
       "      <td>False</td>\n",
       "      <td>...</td>\n",
       "      <td>False</td>\n",
       "      <td>False</td>\n",
       "      <td>False</td>\n",
       "      <td>False</td>\n",
       "      <td>False</td>\n",
       "      <td>False</td>\n",
       "      <td>False</td>\n",
       "      <td>False</td>\n",
       "      <td>False</td>\n",
       "      <td>False</td>\n",
       "    </tr>\n",
       "    <tr>\n",
       "      <th>9423</th>\n",
       "      <td>False</td>\n",
       "      <td>False</td>\n",
       "      <td>False</td>\n",
       "      <td>False</td>\n",
       "      <td>False</td>\n",
       "      <td>False</td>\n",
       "      <td>False</td>\n",
       "      <td>False</td>\n",
       "      <td>False</td>\n",
       "      <td>False</td>\n",
       "      <td>...</td>\n",
       "      <td>False</td>\n",
       "      <td>False</td>\n",
       "      <td>False</td>\n",
       "      <td>False</td>\n",
       "      <td>False</td>\n",
       "      <td>False</td>\n",
       "      <td>False</td>\n",
       "      <td>False</td>\n",
       "      <td>False</td>\n",
       "      <td>False</td>\n",
       "    </tr>\n",
       "    <tr>\n",
       "      <th>9424</th>\n",
       "      <td>False</td>\n",
       "      <td>False</td>\n",
       "      <td>False</td>\n",
       "      <td>False</td>\n",
       "      <td>False</td>\n",
       "      <td>False</td>\n",
       "      <td>False</td>\n",
       "      <td>False</td>\n",
       "      <td>False</td>\n",
       "      <td>False</td>\n",
       "      <td>...</td>\n",
       "      <td>False</td>\n",
       "      <td>False</td>\n",
       "      <td>False</td>\n",
       "      <td>False</td>\n",
       "      <td>False</td>\n",
       "      <td>False</td>\n",
       "      <td>False</td>\n",
       "      <td>False</td>\n",
       "      <td>False</td>\n",
       "      <td>False</td>\n",
       "    </tr>\n",
       "    <tr>\n",
       "      <th>9425</th>\n",
       "      <td>False</td>\n",
       "      <td>False</td>\n",
       "      <td>False</td>\n",
       "      <td>False</td>\n",
       "      <td>False</td>\n",
       "      <td>False</td>\n",
       "      <td>False</td>\n",
       "      <td>False</td>\n",
       "      <td>False</td>\n",
       "      <td>False</td>\n",
       "      <td>...</td>\n",
       "      <td>False</td>\n",
       "      <td>False</td>\n",
       "      <td>False</td>\n",
       "      <td>False</td>\n",
       "      <td>False</td>\n",
       "      <td>False</td>\n",
       "      <td>False</td>\n",
       "      <td>False</td>\n",
       "      <td>False</td>\n",
       "      <td>False</td>\n",
       "    </tr>\n",
       "  </tbody>\n",
       "</table>\n",
       "<p>9426 rows × 24 columns</p>\n",
       "</div>"
      ],
      "text/plain": [
       "      Row ID  Order Priority  Discount  Unit Price  Shipping Cost  \\\n",
       "0      False           False     False       False          False   \n",
       "1      False           False     False       False          False   \n",
       "2      False           False     False       False          False   \n",
       "3      False           False     False       False          False   \n",
       "4      False           False     False       False          False   \n",
       "...      ...             ...       ...         ...            ...   \n",
       "9421   False           False     False       False          False   \n",
       "9422   False           False     False       False          False   \n",
       "9423   False           False     False       False          False   \n",
       "9424   False           False     False       False          False   \n",
       "9425   False           False     False       False          False   \n",
       "\n",
       "      Customer ID  Customer Name  Ship Mode  Customer Segment  \\\n",
       "0           False          False      False             False   \n",
       "1           False          False      False             False   \n",
       "2           False          False      False             False   \n",
       "3           False          False      False             False   \n",
       "4           False          False      False             False   \n",
       "...           ...            ...        ...               ...   \n",
       "9421        False          False      False             False   \n",
       "9422        False          False      False             False   \n",
       "9423        False          False      False             False   \n",
       "9424        False          False      False             False   \n",
       "9425        False          False      False             False   \n",
       "\n",
       "      Product Category  ...  Region  State or Province   City  Postal Code  \\\n",
       "0                False  ...   False              False  False        False   \n",
       "1                False  ...   False              False  False        False   \n",
       "2                False  ...   False              False  False        False   \n",
       "3                False  ...   False              False  False        False   \n",
       "4                False  ...   False              False  False        False   \n",
       "...                ...  ...     ...                ...    ...          ...   \n",
       "9421             False  ...   False              False  False        False   \n",
       "9422             False  ...   False              False  False        False   \n",
       "9423             False  ...   False              False  False        False   \n",
       "9424             False  ...   False              False  False        False   \n",
       "9425             False  ...   False              False  False        False   \n",
       "\n",
       "      Order Date  Ship Date  Profit  Quantity ordered new  Sales  Order ID  \n",
       "0          False      False   False                 False  False     False  \n",
       "1          False      False   False                 False  False     False  \n",
       "2          False      False   False                 False  False     False  \n",
       "3          False      False   False                 False  False     False  \n",
       "4          False      False   False                 False  False     False  \n",
       "...          ...        ...     ...                   ...    ...       ...  \n",
       "9421       False      False   False                 False  False     False  \n",
       "9422       False      False   False                 False  False     False  \n",
       "9423       False      False   False                 False  False     False  \n",
       "9424       False      False   False                 False  False     False  \n",
       "9425       False      False   False                 False  False     False  \n",
       "\n",
       "[9426 rows x 24 columns]"
      ]
     },
     "execution_count": 10,
     "metadata": {},
     "output_type": "execute_result"
    }
   ],
   "source": [
    "data.isnull()"
   ]
  },
  {
   "cell_type": "code",
   "execution_count": 11,
   "id": "53b70921-fe21-4cd5-bc4f-5abf5ba002c0",
   "metadata": {},
   "outputs": [
    {
     "data": {
      "text/plain": [
       "Row ID                   0\n",
       "Order Priority           0\n",
       "Discount                 0\n",
       "Unit Price               0\n",
       "Shipping Cost            0\n",
       "Customer ID              0\n",
       "Customer Name            0\n",
       "Ship Mode                0\n",
       "Customer Segment         0\n",
       "Product Category         0\n",
       "Product Sub-Category     0\n",
       "Product Container        0\n",
       "Product Name             0\n",
       "Product Base Margin     72\n",
       "Region                   0\n",
       "State or Province        0\n",
       "City                     0\n",
       "Postal Code              0\n",
       "Order Date               0\n",
       "Ship Date                0\n",
       "Profit                   0\n",
       "Quantity ordered new     0\n",
       "Sales                    0\n",
       "Order ID                 0\n",
       "dtype: int64"
      ]
     },
     "execution_count": 11,
     "metadata": {},
     "output_type": "execute_result"
    }
   ],
   "source": [
    "data.isnull().sum()"
   ]
  },
  {
   "cell_type": "code",
   "execution_count": 12,
   "id": "57087d24-b109-4873-a52f-78b26737e9fc",
   "metadata": {},
   "outputs": [
    {
     "name": "stderr",
     "output_type": "stream",
     "text": [
      "C:\\Users\\ideapad\\AppData\\Local\\Temp\\ipykernel_19488\\248036947.py:1: FutureWarning: A value is trying to be set on a copy of a DataFrame or Series through chained assignment using an inplace method.\n",
      "The behavior will change in pandas 3.0. This inplace method will never work because the intermediate object on which we are setting values always behaves as a copy.\n",
      "\n",
      "For example, when doing 'df[col].method(value, inplace=True)', try using 'df.method({col: value}, inplace=True)' or df[col] = df[col].method(value) instead, to perform the operation inplace on the original object.\n",
      "\n",
      "\n",
      "  data['Product Base Margin'].fillna(data['Product Base Margin'].mean(),inplace=True)\n"
     ]
    }
   ],
   "source": [
    "data['Product Base Margin'].fillna(data['Product Base Margin'].mean(),inplace=True)"
   ]
  },
  {
   "cell_type": "code",
   "execution_count": 13,
   "id": "44814fb9-b153-445e-9dc4-f6170ed54f60",
   "metadata": {},
   "outputs": [
    {
     "data": {
      "text/plain": [
       "Row ID                  0\n",
       "Order Priority          0\n",
       "Discount                0\n",
       "Unit Price              0\n",
       "Shipping Cost           0\n",
       "Customer ID             0\n",
       "Customer Name           0\n",
       "Ship Mode               0\n",
       "Customer Segment        0\n",
       "Product Category        0\n",
       "Product Sub-Category    0\n",
       "Product Container       0\n",
       "Product Name            0\n",
       "Product Base Margin     0\n",
       "Region                  0\n",
       "State or Province       0\n",
       "City                    0\n",
       "Postal Code             0\n",
       "Order Date              0\n",
       "Ship Date               0\n",
       "Profit                  0\n",
       "Quantity ordered new    0\n",
       "Sales                   0\n",
       "Order ID                0\n",
       "dtype: int64"
      ]
     },
     "execution_count": 13,
     "metadata": {},
     "output_type": "execute_result"
    }
   ],
   "source": [
    "data.isnull().sum()"
   ]
  },
  {
   "cell_type": "code",
   "execution_count": 14,
   "id": "cb717e89-14ae-4dbe-bb07-a1e232d4001c",
   "metadata": {},
   "outputs": [
    {
     "data": {
      "text/plain": [
       "Order Priority\n",
       "High             1970\n",
       "Low              1926\n",
       "Not Specified    1881\n",
       "Medium           1844\n",
       "Critical         1804\n",
       "Critical            1\n",
       "Name: count, dtype: int64"
      ]
     },
     "execution_count": 14,
     "metadata": {},
     "output_type": "execute_result"
    }
   ],
   "source": [
    "data['Order Priority'].value_counts()"
   ]
  },
  {
   "cell_type": "code",
   "execution_count": 15,
   "id": "ff71c2b6-e958-4a5f-8107-519807b533f3",
   "metadata": {},
   "outputs": [
    {
     "data": {
      "text/plain": [
       "array(['Not Specified', 'High', 'Medium', 'Low', 'Critical', 'Critical '],\n",
       "      dtype=object)"
      ]
     },
     "execution_count": 15,
     "metadata": {},
     "output_type": "execute_result"
    }
   ],
   "source": [
    "#Here we checking unique just because of Critical is coming two times in values count\n",
    "data['Order Priority'].unique()"
   ]
  },
  {
   "cell_type": "code",
   "execution_count": 16,
   "id": "848b86c6-f472-42b3-bb2c-452c6e83abef",
   "metadata": {},
   "outputs": [],
   "source": [
    "# so basically there is extra space in Critical so they counts there is different Critical\n",
    "\n",
    "#  So we have to replace Critical with space to without space"
   ]
  },
  {
   "cell_type": "code",
   "execution_count": 17,
   "id": "b5524354-be9c-49c3-be4e-bf61573cfde8",
   "metadata": {},
   "outputs": [
    {
     "data": {
      "text/plain": [
       "0       Not Specified\n",
       "1                High\n",
       "2       Not Specified\n",
       "3       Not Specified\n",
       "4       Not Specified\n",
       "            ...      \n",
       "9421         Critical\n",
       "9422         Critical\n",
       "9423    Not Specified\n",
       "9424             High\n",
       "9425    Not Specified\n",
       "Name: Order Priority, Length: 9426, dtype: object"
      ]
     },
     "execution_count": 17,
     "metadata": {},
     "output_type": "execute_result"
    }
   ],
   "source": [
    "#Replacing Value\n",
    "data['Order Priority'].replace('Critical ','Critical')"
   ]
  },
  {
   "cell_type": "code",
   "execution_count": 18,
   "id": "9262b4a1-18ab-4b39-8aa9-3fdd59c6187d",
   "metadata": {},
   "outputs": [],
   "source": [
    "data['Order Priority'] = data['Order Priority'].replace('Critical ','Critical')"
   ]
  },
  {
   "cell_type": "code",
   "execution_count": 19,
   "id": "e4b1ddec-3a85-468f-86fe-de85f3b4401d",
   "metadata": {},
   "outputs": [
    {
     "data": {
      "text/plain": [
       "Order Priority\n",
       "High             1970\n",
       "Low              1926\n",
       "Not Specified    1881\n",
       "Medium           1844\n",
       "Critical         1805\n",
       "Name: count, dtype: int64"
      ]
     },
     "execution_count": 19,
     "metadata": {},
     "output_type": "execute_result"
    }
   ],
   "source": [
    "data['Order Priority'].value_counts()"
   ]
  },
  {
   "cell_type": "code",
   "execution_count": 20,
   "id": "1f3ff6f6-978e-45a4-8ad0-8298f76cac69",
   "metadata": {},
   "outputs": [
    {
     "data": {
      "image/png": "[encoded data removed]",
      "text/plain": [
       "<Figure size 500x400 with 1 Axes>"
      ]
     },
     "metadata": {},
     "output_type": "display_data"
    }
   ],
   "source": [
    "plt.figure(figsize=(5,4))\n",
    "sns.countplot(x ='Order Priority',data=data)\n",
    "plt.title('Count of Order Priority')\n",
    "plt.savefig('Count of Order Priority')\n",
    "plt.show()"
   ]
  },
  {
   "cell_type": "markdown",
   "id": "5effeb50-0376-49a8-975a-db6af75ae1e3",
   "metadata": {},
   "source": [
    "#Shipping Mode"
   ]
  },
  {
   "cell_type": "code",
   "execution_count": 21,
   "id": "3214c334-e493-41e8-a3ae-a785b3647ada",
   "metadata": {},
   "outputs": [
    {
     "data": {
      "text/plain": [
       "Ship Mode\n",
       "Regular Air       7036\n",
       "Delivery Truck    1283\n",
       "Express Air       1107\n",
       "Name: count, dtype: int64"
      ]
     },
     "execution_count": 21,
     "metadata": {},
     "output_type": "execute_result"
    }
   ],
   "source": [
    "data['Ship Mode'].value_counts()"
   ]
  },
  {
   "cell_type": "code",
   "execution_count": 22,
   "id": "e72883e7-18ae-4736-b471-6a514887a289",
   "metadata": {},
   "outputs": [
    {
     "data": {
      "image/png": "[encoded data removed]",
      "text/plain": [
       "<Figure size 500x400 with 1 Axes>"
      ]
     },
     "metadata": {},
     "output_type": "display_data"
    }
   ],
   "source": [
    "plt.figure(figsize=(5,4))\n",
    "sns.countplot(x ='Ship Mode',data=data)\n",
    "plt.title('Count of Shipping Mode')\n",
    "plt.savefig('Count of Shipping Mode')\n",
    "plt.show()"
   ]
  },
  {
   "cell_type": "code",
   "execution_count": 46,
   "id": "d81d0f2b-333e-4b87-a410-a211ef9d5604",
   "metadata": {},
   "outputs": [
    {
     "data": {
      "image/png": "[encoded data removed]",
      "text/plain": [
       "<Figure size 500x400 with 1 Axes>"
      ]
     },
     "metadata": {},
     "output_type": "display_data"
    }
   ],
   "source": [
    "x =data['Ship Mode'].value_counts().index\n",
    "y=data['Ship Mode'].value_counts().values\n",
    "plt.figure(figsize=(5,4))\n",
    "plt.pie(y,labels=x,autopct='%0.2f%%',startangle=90) # startangle is used for managing the angle betweens ship mode \n",
    "plt.legend(loc=2)\n",
    "plt.savefig('Shipping Mode')\n",
    "plt.show()"
   ]
  },
  {
   "cell_type": "code",
   "execution_count": 24,
   "id": "7f5f3938-f002-45ea-bc67-c9ec540e20db",
   "metadata": {},
   "outputs": [
    {
     "data": {
      "text/plain": [
       "Customer Segment\n",
       "Corporate         3375\n",
       "Home Office       2316\n",
       "Consumer          1894\n",
       "Small Business    1841\n",
       "Name: count, dtype: int64"
      ]
     },
     "execution_count": 24,
     "metadata": {},
     "output_type": "execute_result"
    }
   ],
   "source": [
    "data['Customer Segment'].value_counts()"
   ]
  },
  {
   "cell_type": "code",
   "execution_count": 47,
   "id": "c76b69d5-c879-494a-9cd2-77af820b4b79",
   "metadata": {},
   "outputs": [
    {
     "data": {
      "image/png": "[encoded data removed]",
      "text/plain": [
       "<Figure size 600x400 with 1 Axes>"
      ]
     },
     "metadata": {},
     "output_type": "display_data"
    }
   ],
   "source": [
    "plt.figure(figsize=(6,4))\n",
    "sns.countplot(x ='Customer Segment',data=data)\n",
    "plt.title('Count of Customer Segment')\n",
    "plt.savefig('Count of Shipping Mode')\n",
    "plt.show()"
   ]
  },
  {
   "cell_type": "code",
   "execution_count": 26,
   "id": "c1d99901-afae-4248-80b8-47fdba57470e",
   "metadata": {},
   "outputs": [],
   "source": [
    "# After seening this graph we say that the most of the our customer is corporate and then from Home offices, small business and consumers...."
   ]
  },
  {
   "cell_type": "markdown",
   "id": "7ac4c537-ea27-4995-8678-48a9e85cbe00",
   "metadata": {},
   "source": [
    "###### here we taking two  columns and then analysis"
   ]
  },
  {
   "cell_type": "code",
   "execution_count": 48,
   "id": "925264c4-5cbf-4269-a9b7-e32feef6a69f",
   "metadata": {},
   "outputs": [
    {
     "data": {
      "image/png": "[encoded data removed]",
      "text/plain": [
       "<Figure size 500x400 with 1 Axes>"
      ]
     },
     "metadata": {},
     "output_type": "display_data"
    }
   ],
   "source": [
    "plt.figure(figsize=(5,4))\n",
    "sns.countplot(x ='Ship Mode',data=data,hue='Product Category')\n",
    "plt.savefig('Product category and their shipping mode')\n",
    "plt.show()"
   ]
  },
  {
   "cell_type": "code",
   "execution_count": 28,
   "id": "cc2ffe49-b17d-48e4-8f3c-ff1924685bb0",
   "metadata": {},
   "outputs": [],
   "source": [
    "# After seeing this graph we can say that the most of the Offices supplies are using our regular Air Services..."
   ]
  },
  {
   "cell_type": "markdown",
   "id": "8836e818-588c-4628-801d-93e8e8daf9e5",
   "metadata": {},
   "source": [
    "## Product Category"
   ]
  },
  {
   "cell_type": "code",
   "execution_count": 29,
   "id": "452710d8-3357-476f-ab52-ab4c5d5c199d",
   "metadata": {},
   "outputs": [
    {
     "data": {
      "text/plain": [
       "Product Category\n",
       "Office Supplies    5181\n",
       "Technology         2312\n",
       "Furniture          1933\n",
       "Name: count, dtype: int64"
      ]
     },
     "execution_count": 29,
     "metadata": {},
     "output_type": "execute_result"
    }
   ],
   "source": [
    "data['Product Category'].value_counts()"
   ]
  },
  {
   "cell_type": "code",
   "execution_count": 49,
   "id": "365c09e3-68eb-4150-b031-7f86ff649a4b",
   "metadata": {},
   "outputs": [
    {
     "data": {
      "image/png": "[encoded data removed]",
      "text/plain": [
       "<Figure size 640x480 with 1 Axes>"
      ]
     },
     "metadata": {},
     "output_type": "display_data"
    }
   ],
   "source": [
    "sns.countplot(x='Product Category',data=data)\n",
    "plt.title('Counting Product Category')\n",
    "plt.savefig('Counting Product Category')\n",
    "plt.show()"
   ]
  },
  {
   "cell_type": "code",
   "execution_count": 31,
   "id": "237c92a2-bb8c-460e-a3df-aa0dd79805b9",
   "metadata": {},
   "outputs": [
    {
     "data": {
      "text/plain": [
       "Product Sub-Category\n",
       "Paper                             1379\n",
       "Binders and Binder Accessories    1028\n",
       "Telephones and Communication       992\n",
       "Office Furnishings                 883\n",
       "Computer Peripherals               846\n",
       "Pens & Art Supplies                721\n",
       "Storage & Organization             610\n",
       "Appliances                         492\n",
       "Chairs & Chairmats                 440\n",
       "Tables                             404\n",
       "Office Machines                    376\n",
       "Labels                             329\n",
       "Envelopes                          272\n",
       "Bookcases                          206\n",
       "Rubber Bands                       195\n",
       "Scissors, Rulers and Trimmers      155\n",
       "Copiers and Fax                     98\n",
       "Name: count, dtype: int64"
      ]
     },
     "execution_count": 31,
     "metadata": {},
     "output_type": "execute_result"
    }
   ],
   "source": [
    "data['Product Sub-Category'].value_counts()"
   ]
  },
  {
   "cell_type": "code",
   "execution_count": 32,
   "id": "99752df3-3743-4a15-b1cc-3ac235fc46d0",
   "metadata": {},
   "outputs": [
    {
     "data": {
      "text/plain": [
       "Index(['Row ID', 'Order Priority', 'Discount', 'Unit Price', 'Shipping Cost',\n",
       "       'Customer ID', 'Customer Name', 'Ship Mode', 'Customer Segment',\n",
       "       'Product Category', 'Product Sub-Category', 'Product Container',\n",
       "       'Product Name', 'Product Base Margin', 'Region', 'State or Province',\n",
       "       'City', 'Postal Code', 'Order Date', 'Ship Date', 'Profit',\n",
       "       'Quantity ordered new', 'Sales', 'Order ID'],\n",
       "      dtype='object')"
      ]
     },
     "execution_count": 32,
     "metadata": {},
     "output_type": "execute_result"
    }
   ],
   "source": [
    "data.columns"
   ]
  },
  {
   "cell_type": "code",
   "execution_count": 51,
   "id": "3a5b9a0b-92b1-4c3a-a73e-cbee74de34b6",
   "metadata": {},
   "outputs": [
    {
     "data": {
      "image/png": "[encoded data removed]",
      "text/plain": [
       "<Figure size 800x600 with 1 Axes>"
      ]
     },
     "metadata": {},
     "output_type": "display_data"
    }
   ],
   "source": [
    "plt.figure(figsize=(8,6))\n",
    "sns.countplot(x='Product Category',hue='Product Sub-Category',data=data[data['Product Category']=='Office Supplies'])\n",
    "# Here we showing the graph of all the Offices product  sub categories products\n",
    "plt.title('Counting Product Category')\n",
    "plt.savefig('Counting product category')\n",
    "plt.show()"
   ]
  },
  {
   "cell_type": "code",
   "execution_count": 34,
   "id": "6124f7f0-7d0e-4347-ab6b-bc9b41eed1ea",
   "metadata": {},
   "outputs": [
    {
     "data": {
      "image/png": "[encoded data removed]",
      "text/plain": [
       "<Figure size 1000x600 with 1 Axes>"
      ]
     },
     "metadata": {},
     "output_type": "display_data"
    }
   ],
   "source": [
    "plt.figure(figsize=(10,6))\n",
    "sns.countplot(x='Product Category',hue='Product Sub-Category',data=data[data['Product Category']=='Furniture'])\n",
    "# Here we showing the graph of all the Furniture product  sub categories products\n",
    "plt.title('Counting Product Category')\n",
    "plt.show()"
   ]
  },
  {
   "cell_type": "code",
   "execution_count": 35,
   "id": "dc8229de-35a4-44f4-a98e-7db004a6b8b1",
   "metadata": {},
   "outputs": [
    {
     "data": {
      "image/png": "[encoded data removed]",
      "text/plain": [
       "<Figure size 1000x600 with 1 Axes>"
      ]
     },
     "metadata": {},
     "output_type": "display_data"
    }
   ],
   "source": [
    "plt.figure(figsize=(10,6))\n",
    "sns.countplot(x='Product Category',hue='Product Sub-Category',data=data[data['Product Category']=='Technology'])\n",
    "# Here we showing the graph of all the Offices product  sub categories products\n",
    "plt.title('Counting Product Category')\n",
    "plt.show()"
   ]
  },
  {
   "cell_type": "code",
   "execution_count": 36,
   "id": "7787f5bd-4c25-412c-8dd1-0a6c4c112741",
   "metadata": {},
   "outputs": [],
   "source": [
    "# here we extracting the year from the order date to calculating sales"
   ]
  },
  {
   "cell_type": "code",
   "execution_count": 37,
   "id": "1dd3a166-657b-4bff-bd27-8ec3b065ef26",
   "metadata": {},
   "outputs": [],
   "source": [
    "data['Order_Year']=data['Order Date'].dt.year"
   ]
  },
  {
   "cell_type": "code",
   "execution_count": 38,
   "id": "ba09254a-a589-4300-80c1-8f47dd095689",
   "metadata": {},
   "outputs": [
    {
     "data": {
      "text/plain": [
       "Index(['Row ID', 'Order Priority', 'Discount', 'Unit Price', 'Shipping Cost',\n",
       "       'Customer ID', 'Customer Name', 'Ship Mode', 'Customer Segment',\n",
       "       'Product Category', 'Product Sub-Category', 'Product Container',\n",
       "       'Product Name', 'Product Base Margin', 'Region', 'State or Province',\n",
       "       'City', 'Postal Code', 'Order Date', 'Ship Date', 'Profit',\n",
       "       'Quantity ordered new', 'Sales', 'Order ID', 'Order_Year'],\n",
       "      dtype='object')"
      ]
     },
     "execution_count": 38,
     "metadata": {},
     "output_type": "execute_result"
    }
   ],
   "source": [
    "data.columns"
   ]
  },
  {
   "cell_type": "code",
   "execution_count": 39,
   "id": "c8c4b473-60b2-411a-9a5f-b2a7ef7ebb8c",
   "metadata": {},
   "outputs": [
    {
     "data": {
      "text/plain": [
       "Order_Year\n",
       "2013    3054\n",
       "2012    2241\n",
       "2011    2179\n",
       "2010    1952\n",
       "Name: count, dtype: int64"
      ]
     },
     "execution_count": 39,
     "metadata": {},
     "output_type": "execute_result"
    }
   ],
   "source": [
    "data['Order_Year'].value_counts()"
   ]
  },
  {
   "cell_type": "code",
   "execution_count": 53,
   "id": "569a171b-9524-41f2-962e-83d08ef80276",
   "metadata": {},
   "outputs": [
    {
     "data": {
      "image/png": "[encoded data removed]",
      "text/plain": [
       "<Figure size 600x400 with 1 Axes>"
      ]
     },
     "metadata": {},
     "output_type": "display_data"
    }
   ],
   "source": [
    "plt.figure(figsize=(6,4))\n",
    "sns.countplot(x='Order_Year',data=data)\n",
    "plt.savefig('Count of order over year')\n",
    "plt.show()"
   ]
  },
  {
   "cell_type": "code",
   "execution_count": 41,
   "id": "5e6417ef-8d24-47d0-bf78-653d598e0b00",
   "metadata": {},
   "outputs": [],
   "source": [
    "# After seengi this graph we can say that year by year how sale is incresing"
   ]
  },
  {
   "cell_type": "code",
   "execution_count": 42,
   "id": "94f32bbe-f603-4487-8b8a-3130f1869054",
   "metadata": {},
   "outputs": [
    {
     "data": {
      "text/plain": [
       "Profit\n",
       " 11.650950       4\n",
       "-969.048366      4\n",
       " 33.988950       4\n",
       "-106.421000      3\n",
       "-33.110000       3\n",
       "                ..\n",
       " 11429.477400    1\n",
       "-11.673144       1\n",
       " 902.106000      1\n",
       " 82.665000       1\n",
       " 1790.426000     1\n",
       "Name: count, Length: 8960, dtype: int64"
      ]
     },
     "execution_count": 42,
     "metadata": {},
     "output_type": "execute_result"
    }
   ],
   "source": [
    "data['Profit'].value_counts()"
   ]
  },
  {
   "cell_type": "code",
   "execution_count": 43,
   "id": "8f8fbb7e-5f04-471b-a193-cdfb38338831",
   "metadata": {},
   "outputs": [
    {
     "data": {
      "image/png": "[encoded data removed]",
      "text/plain": [
       "<Figure size 640x480 with 1 Axes>"
      ]
     },
     "metadata": {},
     "output_type": "display_data"
    }
   ],
   "source": [
    "sns.barplot(y='Profit',x='Product Category',data=data,estimator='sum') # here we using estimator =sum where sum of profit according to product category\n",
    "plt.show()"
   ]
  },
  {
   "cell_type": "code",
   "execution_count": 44,
   "id": "5c30f323-687c-4975-ba90-895d92ecca81",
   "metadata": {},
   "outputs": [
    {
     "data": {
      "text/plain": [
       "State or Province\n",
       "California    1021\n",
       "Texas          646\n",
       "Illinois       584\n",
       "New York       574\n",
       "Florida        522\n",
       "Name: count, dtype: int64"
      ]
     },
     "execution_count": 44,
     "metadata": {},
     "output_type": "execute_result"
    }
   ],
   "source": [
    "data['State or Province'].value_counts()[:5] #Here we calculating wwhich state have how many sales "
   ]
  },
  {
   "cell_type": "code",
   "execution_count": 54,
   "id": "8b6255e7-90fd-454c-922a-aa5f57bdb6fb",
   "metadata": {},
   "outputs": [
    {
     "data": {
      "image/png": "[encoded data removed]",
      "text/plain": [
       "<Figure size 640x480 with 1 Axes>"
      ]
     },
     "metadata": {},
     "output_type": "display_data"
    }
   ],
   "source": [
    "sns.barplot(x='Product Category',y='Product Base Margin',data=data,estimator='sum') \n",
    "plt.savefig('Product base margin over product category')\n",
    "plt.show()"
   ]
  },
  {
   "cell_type": "code",
   "execution_count": null,
   "id": "222cfeb7-a3ed-4f13-9da4-40d30a85d0d4",
   "metadata": {},
   "outputs": [],
   "source": []
  }
 ],
 "metadata": {
  "kernelspec": {
   "display_name": "Python 3 (ipykernel)",
   "language": "python",
   "name": "python3"
  },
  "language_info": {
   "codemirror_mode": {
    "name": "ipython",
    "version": 3
   },
   "file_extension": ".py",
   "mimetype": "text/x-python",
   "name": "python",
   "nbconvert_exporter": "python",
   "pygments_lexer": "ipython3",
   "version": "3.10.11"
  }
 },
 "nbformat": 4,
 "nbformat_minor": 5
}
